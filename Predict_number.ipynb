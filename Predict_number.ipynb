{
 "cells": [
  {
   "cell_type": "code",
   "execution_count": 18,
   "metadata": {},
   "outputs": [],
   "source": [
    "import numpy as np  # Import the NumPy library for numerical operations.\n",
    "import tkinter as tk  # Import the Tkinter library for creating the GUI.\n",
    "from tensorflow.keras.datasets import mnist  # Import the MNIST dataset from Keras.\n",
    "from tensorflow.keras.models import Sequential, load_model  # Import the Sequential model and load_model function.\n",
    "from tensorflow.keras.layers import Dense, Flatten  # Import the Dense and Flatten layers for the neural network.\n",
    "from tensorflow.keras.utils import to_categorical  # Import the function for one-hot encoding labels.\n",
    "from PIL import Image, ImageDraw  # Import the Pillow library for image processing and drawing.\n",
    "\n"
   ]
  },
  {
   "cell_type": "code",
   "execution_count": 19,
   "metadata": {},
   "outputs": [],
   "source": [
    "# Load the MNIST dataset\n",
    "(x_train, y_train), (x_test, y_test) = mnist.load_data()  # Load the training and testing data.\n",
    "\n",
    "# Normalize the data\n",
    "x_train = x_train.astype('float32') / 255  # Convert training data to float32 and normalize it to [0, 1].\n",
    "x_test = x_test.astype('float32') / 255  # Convert testing data to float32 and normalize it to [0, 1].\n",
    "\n",
    "# One-hot encode the labels\n",
    "y_train = to_categorical(y_train, num_classes=10)  # Convert training labels to one-hot encoding.\n",
    "y_test = to_categorical(y_test, num_classes=10)  # Convert testing labels to one-hot encoding.\n",
    "\n"
   ]
  },
  {
   "cell_type": "code",
   "execution_count": 20,
   "metadata": {},
   "outputs": [
    {
     "name": "stdout",
     "output_type": "stream",
     "text": [
      "Epoch 1/5\n",
      "\u001b[1m1875/1875\u001b[0m \u001b[32m━━━━━━━━━━━━━━━━━━━━\u001b[0m\u001b[37m\u001b[0m \u001b[1m3s\u001b[0m 1ms/step - accuracy: 0.8737 - loss: 0.4369\n",
      "Epoch 2/5\n",
      "\u001b[1m1875/1875\u001b[0m \u001b[32m━━━━━━━━━━━━━━━━━━━━\u001b[0m\u001b[37m\u001b[0m \u001b[1m2s\u001b[0m 976us/step - accuracy: 0.9620 - loss: 0.1261\n",
      "Epoch 3/5\n",
      "\u001b[1m1875/1875\u001b[0m \u001b[32m━━━━━━━━━━━━━━━━━━━━\u001b[0m\u001b[37m\u001b[0m \u001b[1m2s\u001b[0m 937us/step - accuracy: 0.9767 - loss: 0.0797\n",
      "Epoch 4/5\n",
      "\u001b[1m1875/1875\u001b[0m \u001b[32m━━━━━━━━━━━━━━━━━━━━\u001b[0m\u001b[37m\u001b[0m \u001b[1m2s\u001b[0m 961us/step - accuracy: 0.9828 - loss: 0.0569\n",
      "Epoch 5/5\n",
      "\u001b[1m1875/1875\u001b[0m \u001b[32m━━━━━━━━━━━━━━━━━━━━\u001b[0m\u001b[37m\u001b[0m \u001b[1m2s\u001b[0m 933us/step - accuracy: 0.9868 - loss: 0.0434\n",
      "\u001b[1m313/313\u001b[0m \u001b[32m━━━━━━━━━━━━━━━━━━━━\u001b[0m\u001b[37m\u001b[0m \u001b[1m0s\u001b[0m 673us/step - accuracy: 0.9746 - loss: 0.0846\n",
      "Test accuracy: 0.9771\n"
     ]
    }
   ],
   "source": [
    "# Create the model\n",
    "model = Sequential([  # Initialize a sequential model.\n",
    "    Flatten(input_shape=(28, 28)),  # Flatten the input images from 28x28 to a 1D array.\n",
    "    Dense(128, activation='relu'),  # Add a dense layer with 128 neurons and ReLU activation function.\n",
    "    Dense(10, activation='softmax')  # Add a dense output layer with 10 neurons and softmax activation for multi-class classification.\n",
    "])\n",
    "\n",
    "# Compile the model\n",
    "model.compile(optimizer='adam',  # Use the Adam optimizer.\n",
    "              loss='categorical_crossentropy',  # Use categorical crossentropy loss for multi-class classification.\n",
    "              metrics=['accuracy'])  # Track accuracy during training.\n",
    "\n",
    "# Train the model\n",
    "model.fit(x_train, y_train, epochs=5, batch_size=32)  # Train the model for 5 epochs with a batch size of 32.\n",
    "\n",
    "# Save the model\n",
    "model.save('my_model.keras')  # Save the trained model to a file.\n",
    "\n",
    "# Test the model's accuracy\n",
    "test_loss, test_accuracy = model.evaluate(x_test, y_test)  # Evaluate the model on the test data.\n",
    "print(f'Test accuracy: {test_accuracy:.4f}')  # Print the test accuracy with 4 decimal places.\n"
   ]
  },
  {
   "cell_type": "code",
   "execution_count": 22,
   "metadata": {},
   "outputs": [],
   "source": [
    "# Create the application window\n",
    "class DrawApp:\n",
    "    def __init__(self, master):  # Initialize the DrawApp class.\n",
    "        self.master = master  # Store the main window.\n",
    "        master.title(\"Digit Prediction Application\")  # Set the title of the window.\n",
    "\n",
    "        self.canvas = tk.Canvas(master, width=280, height=280, bg='white')  # Create a canvas for drawing.\n",
    "        self.canvas.pack()  # Pack the canvas into the window.\n",
    "\n",
    "        self.button_predict = tk.Button(master, text=\"Predict\", command=self.predict_digit)  # Create a button to predict the digit.\n",
    "        self.button_predict.pack()  # Pack the predict button into the window.\n",
    "\n",
    "        self.button_clear = tk.Button(master, text=\"Clear\", command=self.clear_canvas)  # Create a button to clear the canvas.\n",
    "        self.button_clear.pack()  # Pack the clear button into the window.\n",
    "\n",
    "        self.canvas.bind(\"<B1-Motion>\", self.paint)  # Bind mouse movement to the paint function.\n",
    "\n",
    "        self.image = Image.new(\"L\", (280, 280), 255)  # Create a new grayscale image with a white background.\n",
    "        self.draw = ImageDraw.Draw(self.image)  # Create a drawing context for the image.\n",
    "\n",
    "        # Load the model\n",
    "        self.model = load_model('my_model.keras')  # Load the saved model.\n",
    "\n",
    "    def paint(self, event):  # Function to draw on the canvas.\n",
    "        x, y = event.x, event.y  # Get the x and y coordinates of the mouse event.\n",
    "        self.canvas.create_oval(x-5, y-5, x+5, y+5, fill='black', outline='black')  # Draw a small circle on the canvas.\n",
    "        self.draw.ellipse([x-5, y-5, x+5, y+5], fill='black')  # Draw a small circle on the image.\n",
    "\n",
    "    def clear_canvas(self):  # Function to clear the canvas.\n",
    "        self.canvas.delete(\"all\")  # Delete all drawings on the canvas.\n",
    "        self.image = Image.new(\"L\", (280, 280), 255)  # Reset the image to a new white background.\n",
    "        self.draw = ImageDraw.Draw(self.image)  # Create a new drawing context.\n",
    "        print(\"Canvas cleaned.\")  # Print a message to the console.\n",
    "\n",
    "    def predict_digit(self):  # Function to predict the drawn digit.\n",
    "        img = self.image.resize((28, 28)).convert(\"L\")  # Resize the image to 28x28 and convert to grayscale.\n",
    "        img_array = np.array(img) / 255.0  # Convert the image to a numpy array and normalize it.\n",
    "        img_array = img_array.reshape(1, 28, 28)  # Reshape the array to match the model input shape.\n",
    "        img_array = np.expand_dims(img_array, axis=-1)  # Expand dimensions to include the channel.\n",
    "\n",
    "        # Make a prediction\n",
    "        predicted_digit = np.argmax(self.model.predict(img_array))  # Predict the digit and get the index of the highest probability.\n",
    "        print(f'Predicted digit: {predicted_digit}')  # Print the predicted digit.\n",
    "\n",
    "# Run the application\n",
    "root = tk.Tk()  # Create the main application window.\n",
    "app = DrawApp(root)  # Instantiate the DrawApp class.\n",
    "root.mainloop()  # Start the Tkinter event loop.\n"
   ]
  }
 ],
 "metadata": {
  "kernelspec": {
   "display_name": "base",
   "language": "python",
   "name": "python3"
  },
  "language_info": {
   "codemirror_mode": {
    "name": "ipython",
    "version": 3
   },
   "file_extension": ".py",
   "mimetype": "text/x-python",
   "name": "python",
   "nbconvert_exporter": "python",
   "pygments_lexer": "ipython3",
   "version": "3.12.4"
  }
 },
 "nbformat": 4,
 "nbformat_minor": 2
}
